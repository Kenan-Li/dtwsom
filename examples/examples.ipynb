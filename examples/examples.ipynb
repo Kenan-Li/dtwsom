{
 "cells": [
  {
   "cell_type": "code",
   "execution_count": 1,
   "id": "royal-vinyl",
   "metadata": {},
   "outputs": [
    {
     "name": "stderr",
     "output_type": "stream",
     "text": [
      "/home/kenan/.pyenv/versions/3.9.2/lib/python3.9/site-packages/tslearn/bases/bases.py:15: UserWarning: h5py not installed, hdf5 features will not be supported.\n",
      "Install h5py to use hdf5 features: http://docs.h5py.org/\n",
      "  warn(h5py_msg)\n"
     ]
    }
   ],
   "source": [
    "import pandas as pd\n",
    "import matplotlib\n",
    "import matplotlib.pyplot as plt\n",
    "%matplotlib inline\n",
    "import numpy as np\n",
    "import os\n",
    "import sys\n",
    "import inspect\n",
    "currentdir = os.path.dirname(os.path.abspath(inspect.getfile(inspect.currentframe())))\n",
    "parentdir = os.path.dirname(currentdir)\n",
    "sys.path.insert(0, parentdir) \n",
    "import dtwsom\n",
    "from minisom import MiniSom\n",
    "import pickle"
   ]
  },
  {
   "cell_type": "code",
   "execution_count": 3,
   "id": "proprietary-retail",
   "metadata": {},
   "outputs": [],
   "source": [
    "with open('daily_NO2.pkl', 'rb') as f:\n",
    "    data_NO2_df = pickle.load(f)\n",
    "dataNO2 =np.stack(data_NO2_df[\"NO2\"])"
   ]
  },
  {
   "cell_type": "code",
   "execution_count": 4,
   "id": "written-wiring",
   "metadata": {},
   "outputs": [],
   "source": [
    "with open('daily_O3.pkl', 'rb') as f:\n",
    "    data_O3_df = pickle.load(f)\n",
    "dataO3 =np.stack(data_O3_df[\"O3\"])"
   ]
  },
  {
   "cell_type": "code",
   "execution_count": 5,
   "id": "legislative-exception",
   "metadata": {},
   "outputs": [],
   "source": [
    "dataNO2plusO3=np.array([dataO3[:1000, :], dataNO2[:1000, :]])"
   ]
  },
  {
   "cell_type": "code",
   "execution_count": 6,
   "id": "different-complement",
   "metadata": {},
   "outputs": [
    {
     "name": "stdout",
     "output_type": "stream",
     "text": [
      " [ 200 / 200 ] 100% - 9.21 it/s - 0:00:00 left  - quantization error: 78.08714906921958\n"
     ]
    }
   ],
   "source": [
    "somNO2plusO3 = dtwsom.MultiDtwSom(10, 10, dataNO2.shape[1], bands =2, w = [0.5, 0.5], sigma=1, learning_rate=0.5, random_seed=10,gl_const=\"sakoe_chiba\", scr=60)\n",
    "somNO2plusO3.pca_weights_init(dataNO2plusO3)\n",
    "somNO2plusO3.train_batch(dataNO2plusO3, 200, verbose=True)\n",
    "weightsNO2plusO3 = somNO2plusO3.get_weights()"
   ]
  }
 ],
 "metadata": {
  "kernelspec": {
   "display_name": "Python 3",
   "language": "python",
   "name": "python3"
  },
  "language_info": {
   "codemirror_mode": {
    "name": "ipython",
    "version": 3
   },
   "file_extension": ".py",
   "mimetype": "text/x-python",
   "name": "python",
   "nbconvert_exporter": "python",
   "pygments_lexer": "ipython3",
   "version": "3.9.2"
  }
 },
 "nbformat": 4,
 "nbformat_minor": 5
}
